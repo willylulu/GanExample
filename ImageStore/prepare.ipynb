{
 "cells": [
  {
   "cell_type": "code",
   "execution_count": 3,
   "metadata": {},
   "outputs": [],
   "source": [
    "# using gaussian blur process image\n",
    "# import libary\n",
    "import numpy as np\n",
    "import sys\n",
    "import cv2\n",
    "import matplotlib.pyplot as plt\n",
    "import matplotlib.image as mpimg"
   ]
  },
  {
   "cell_type": "code",
   "execution_count": 4,
   "metadata": {},
   "outputs": [
    {
     "name": "stdout",
     "output_type": "stream",
     "text": [
      "(62328, 64, 64, 3)\n"
     ]
    }
   ],
   "source": [
    "# load numpy matrix\n",
    "# path:target directory\n",
    "# file:target numpy matrix file\n",
    "path = '../../wikifacemini/'\n",
    "file = 'wikifacemini'\n",
    "data = np.load(path+file+'.npy')\n",
    "print(data.shape)"
   ]
  },
  {
   "cell_type": "code",
   "execution_count": 6,
   "metadata": {},
   "outputs": [
    {
     "name": "stdout",
     "output_type": "stream",
     "text": [
      "process image\n",
      "new numpy matrix saved\n"
     ]
    }
   ],
   "source": [
    "# process image\n",
    "# using openCV cv2 package\n",
    "# then save new numpy matrix\n",
    "print('process image')\n",
    "for i in range(len(data)):\n",
    "    data[i]=cv2.GaussianBlur(data[i],(5,5),0)\n",
    "np.save(file+'GB.npy',data)\n",
    "print('new numpy matrix saved')"
   ]
  },
  {
   "cell_type": "code",
   "execution_count": null,
   "metadata": {},
   "outputs": [],
   "source": [
    "# preview blur image\n",
    "f,ax = plt.subplots(8,8)\n",
    "for i in range(8):\n",
    "    for j in range(8):\n",
    "        index=i*8+j\n",
    "        ax[i,j].imshow(data[index])\n",
    "plt.show()"
   ]
  },
  {
   "cell_type": "code",
   "execution_count": null,
   "metadata": {},
   "outputs": [],
   "source": []
  }
 ],
 "metadata": {
  "kernelspec": {
   "display_name": "Python 3",
   "language": "python",
   "name": "python3"
  },
  "language_info": {
   "codemirror_mode": {
    "name": "ipython",
    "version": 3
   },
   "file_extension": ".py",
   "mimetype": "text/x-python",
   "name": "python",
   "nbconvert_exporter": "python",
   "pygments_lexer": "ipython3",
   "version": "3.5.2"
  }
 },
 "nbformat": 4,
 "nbformat_minor": 2
}
