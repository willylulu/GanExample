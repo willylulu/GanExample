{
 "cells": [
  {
   "cell_type": "code",
   "execution_count": 1,
   "metadata": {},
   "outputs": [
    {
     "name": "stderr",
     "output_type": "stream",
     "text": [
      "Using TensorFlow backend.\n"
     ]
    }
   ],
   "source": [
    "# import libary\n",
    "import os\n",
    "import sys\n",
    "import numpy as np\n",
    "import matplotlib.pyplot as plt\n",
    "import matplotlib.image as mpimg\n",
    "import keras\n",
    "from keras.models import load_model"
   ]
  },
  {
   "cell_type": "code",
   "execution_count": 3,
   "metadata": {},
   "outputs": [
    {
     "name": "stdout",
     "output_type": "stream",
     "text": [
      "matrix loaded\n"
     ]
    }
   ],
   "source": [
    "# load matrix\n",
    "predictFile = 'FacesGB.npy'\n",
    "originFile = '../../101OC/Faces.npy'\n",
    "x = np.load(predictFile)\n",
    "y = np.load(originFile)\n",
    "print('matrix loaded')"
   ]
  },
  {
   "cell_type": "code",
   "execution_count": null,
   "metadata": {},
   "outputs": [],
   "source": [
    "# predict\n",
    "model = load_model('model.h5')\n",
    "model.summary()\n",
    "\n",
    "result = model.predict(x,batch_size=128,verbose=0)\n",
    "print('predicted')"
   ]
  },
  {
   "cell_type": "code",
   "execution_count": null,
   "metadata": {},
   "outputs": [],
   "source": [
    "# show the processed image and compare with origin image\n",
    "f,ax = plt.subplots(8,9)\n",
    "for i in range(8):\n",
    "    for j in range(3):\n",
    "        index=i*8+j\n",
    "        ax[i,j*3].imshow(result[index])\n",
    "        ax[i,j*3+1].imshow(y[index])\n",
    "        ax[i,j*3+2].imshow(x[index])\n",
    "plt.show()"
   ]
  }
 ],
 "metadata": {
  "kernelspec": {
   "display_name": "Python 3",
   "language": "python",
   "name": "python3"
  },
  "language_info": {
   "codemirror_mode": {
    "name": "ipython",
    "version": 3
   },
   "file_extension": ".py",
   "mimetype": "text/x-python",
   "name": "python",
   "nbconvert_exporter": "python",
   "pygments_lexer": "ipython3",
   "version": "3.5.2"
  }
 },
 "nbformat": 4,
 "nbformat_minor": 2
}
