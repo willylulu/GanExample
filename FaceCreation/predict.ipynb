{
 "cells": [
  {
   "cell_type": "code",
   "execution_count": 1,
   "metadata": {},
   "outputs": [
    {
     "name": "stderr",
     "output_type": "stream",
     "text": [
      "Using TensorFlow backend.\n"
     ]
    }
   ],
   "source": [
    "import os\n",
    "import sys\n",
    "import numpy as np\n",
    "import matplotlib.pyplot as plt\n",
    "import matplotlib.image as mpimg\n",
    "from PIL import Image\n",
    "import tensorflow as tf\n",
    "import keras\n",
    "from keras.models import Sequential\n",
    "from keras.layers import Dense\n",
    "from keras.models import load_model\n",
    "from keras.backend.tensorflow_backend import set_session\n",
    "\n",
    "config = tf.ConfigProto()\n",
    "config.gpu_options.allow_growth = True\n",
    "set_session(tf.Session(config=config))"
   ]
  },
  {
   "cell_type": "code",
   "execution_count": 2,
   "metadata": {},
   "outputs": [
    {
     "name": "stderr",
     "output_type": "stream",
     "text": [
      "/usr/local/lib/python3.5/dist-packages/Keras-2.0.7-py3.5.egg/keras/models.py:251: UserWarning: No training configuration found in save file: the model was *not* compiled. Compile it manually.\n"
     ]
    }
   ],
   "source": [
    "generator = load_model('models/fakeFaceModel2.h5')"
   ]
  },
  {
   "cell_type": "code",
   "execution_count": 3,
   "metadata": {},
   "outputs": [
    {
     "name": "stdout",
     "output_type": "stream",
     "text": [
      "(64, 64, 64, 3)\n"
     ]
    }
   ],
   "source": [
    "noise = np.random.uniform(-1.0, 1.0, size=[64, 100])\n",
    "fake_faces = generator.predict(noise)\n",
    "print(fake_faces.shape)"
   ]
  },
  {
   "cell_type": "code",
   "execution_count": 4,
   "metadata": {},
   "outputs": [],
   "source": [
    "width = 8\n",
    "new_im = Image.new('RGB', (64*width,64*width))\n",
    "for ii in range(width):\n",
    "    for jj in range(width):\n",
    "        index=ii*width+jj\n",
    "        image = (fake_faces[index]/2+0.5)*256\n",
    "        image = image.astype(np.uint8)\n",
    "        new_im.paste(Image.fromarray(image,\"RGB\"), (64*ii,64*jj))\n",
    "new_im.save('test3.png')\n",
    "# plt.figure(figsize=(100,100))\n",
    "# f,ax = plt.subplots(width,width)\n",
    "# for ii in range(width):\n",
    "#     for jj in range(width):\n",
    "#         index=ii*width+jj\n",
    "#         ax[ii,jj].imshow(fake_faces[index]/2+0.5)\n",
    "#         ax[ii,jj].axis('off')\n",
    "# plt.savefig(\"sample.png\", transparent = True ,bbox_inches='tight' ,pad_inches = 0)"
   ]
  },
  {
   "cell_type": "code",
   "execution_count": null,
   "metadata": {},
   "outputs": [],
   "source": []
  }
 ],
 "metadata": {
  "kernelspec": {
   "display_name": "Python 3",
   "language": "python",
   "name": "python3"
  },
  "language_info": {
   "codemirror_mode": {
    "name": "ipython",
    "version": 3
   },
   "file_extension": ".py",
   "mimetype": "text/x-python",
   "name": "python",
   "nbconvert_exporter": "python",
   "pygments_lexer": "ipython3",
   "version": "3.5.2"
  }
 },
 "nbformat": 4,
 "nbformat_minor": 2
}
