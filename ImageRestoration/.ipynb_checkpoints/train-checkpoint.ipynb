{
 "cells": [
  {
   "cell_type": "code",
   "execution_count": 1,
   "metadata": {},
   "outputs": [
    {
     "name": "stderr",
     "output_type": "stream",
     "text": [
      "Using TensorFlow backend.\n"
     ]
    }
   ],
   "source": [
    "# traing model\n",
    "# import libary\n",
    "import os\n",
    "import numpy as np\n",
    "import matplotlib.pyplot as plt\n",
    "import matplotlib.image as mpimg\n",
    "import keras\n",
    "from keras.models import Sequential\n",
    "from keras.layers import Dense, Dropout, Flatten, LeakyReLU, Conv2DTranspose, Activation\n",
    "from keras.layers import Conv2D, MaxPooling2D"
   ]
  },
  {
   "cell_type": "code",
   "execution_count": null,
   "metadata": {},
   "outputs": [],
   "source": [
    "# load numpy matrix\n",
    "path = '../../wikifacemini/'\n",
    "originImageFile = 'wikifacemini.npy'\n",
    "blurImageFile = 'wikifaceminiGB.npy'\n",
    "y = np.load(path+originImageFile)\n",
    "x = np.load(blurImageFile)\n",
    "print('matrix loaded')"
   ]
  },
  {
   "cell_type": "code",
   "execution_count": null,
   "metadata": {},
   "outputs": [],
   "source": [
    "# model structure\n",
    "model = Sequential()\n",
    "\n",
    "# encoder\n",
    "model.add(Conv2D(64,(3,3),strides=(2,2),padding='same',input_shape=(64,64,3)))\n",
    "model.add(LeakyReLU())\n",
    "model.add(Conv2D(128,(3,3),strides=(2,2),padding='same'))\n",
    "model.add(LeakyReLU())\n",
    "model.add(Conv2D(256,(3,3),strides=(2,2),padding='same'))\n",
    "model.add(LeakyReLU())\n",
    "model.add(Conv2D(512,(3,3),strides=(2,2),padding='same'))\n",
    "model.add(LeakyReLU())\n",
    "model.add(Activation('sigmoid'))\n",
    "\n",
    "#decoder\n",
    "model.add(Conv2DTranspose(256,(3,3),strides=(2,2),padding='same',output_shape=(8,8,256),activation='relu'))\n",
    "model.add(Conv2DTranspose(128,(3,3),strides=(2,2),padding='same',output_shape=(16,16,128),activation='relu'))\n",
    "model.add(Conv2DTranspose(64,(3,3),strides=(2,2),padding='same',output_shape=(32,32,64),activation='relu'))\n",
    "model.add(Conv2DTranspose(3,(3,3),strides=(2,2),padding='same',output_shape=(64,64,3),activation='relu'))\n",
    "model.add(Activation('tanh'))"
   ]
  },
  {
   "cell_type": "code",
   "execution_count": null,
   "metadata": {},
   "outputs": [],
   "source": [
    "#start training\n",
    "model.summary()\n",
    "model.compile(loss='mean_squared_error', optimizer='adam')\n",
    "model.fit(x,y,batch_size=128,epochs=30)"
   ]
  },
  {
   "cell_type": "code",
   "execution_count": null,
   "metadata": {},
   "outputs": [],
   "source": [
    "# save model\n",
    "model.save('model.h5')"
   ]
  }
 ],
 "metadata": {
  "kernelspec": {
   "display_name": "Python 3",
   "language": "python",
   "name": "python3"
  },
  "language_info": {
   "codemirror_mode": {
    "name": "ipython",
    "version": 3
   },
   "file_extension": ".py",
   "mimetype": "text/x-python",
   "name": "python",
   "nbconvert_exporter": "python",
   "pygments_lexer": "ipython3",
   "version": "3.5.2"
  }
 },
 "nbformat": 4,
 "nbformat_minor": 2
}
